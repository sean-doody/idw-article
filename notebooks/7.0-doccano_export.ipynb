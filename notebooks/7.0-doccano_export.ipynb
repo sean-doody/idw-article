{
 "cells": [
  {
   "cell_type": "markdown",
   "metadata": {},
   "source": [
    "## Doccano Processing\n",
    "\n",
    "Processes the Doccano annotated dataset and format it for Excel for final quality control and further coding refinement."
   ]
  },
  {
   "cell_type": "code",
   "execution_count": null,
   "metadata": {},
   "outputs": [],
   "source": [
    "import os\n",
    "import json\n",
    "import pandas as pd"
   ]
  },
  {
   "cell_type": "code",
   "execution_count": null,
   "metadata": {},
   "outputs": [],
   "source": [
    "# load JSON:\n",
    "doccano_file = \"final_annotated_idw.json\"\n",
    "\n",
    "with open(\n",
    "    os.path.join(\n",
    "        \"..\",\n",
    "        \"doccano\",\n",
    "        \"exports\",\n",
    "        doccano_file\n",
    "    ),\n",
    "    \"r\"\n",
    ") as f:\n",
    "    data = json.load(f)\n",
    " \n",
    " # pass to Pandas:   \n",
    "df = pd.DataFrame(data)\n",
    "\n",
    "# join the 'Comments' values:\n",
    "df[\"Comments\"] = df[\"Comments\"].apply(lambda row: \" \".join(row))\n",
    "\n",
    "# rename `id` for clarity:\n",
    "df.rename(columns={\"id\": \"doccano_id\"}, inplace=True)"
   ]
  },
  {
   "cell_type": "code",
   "execution_count": null,
   "metadata": {},
   "outputs": [],
   "source": [
    "df.head()"
   ]
  },
  {
   "cell_type": "markdown",
   "metadata": {},
   "source": [
    "**Get dummy values for labels:**"
   ]
  },
  {
   "cell_type": "code",
   "execution_count": null,
   "metadata": {},
   "outputs": [],
   "source": [
    "dummies = pd.get_dummies(df.explode(\"label\")[\"label\"]).groupby(level=0).sum()\n",
    "df = pd.concat([df, dummies], axis=1)\n",
    "df[\"label\"] = df[\"label\"].apply(lambda row: \"; \".join(row))"
   ]
  },
  {
   "cell_type": "code",
   "execution_count": null,
   "metadata": {},
   "outputs": [],
   "source": [
    "df.head()"
   ]
  },
  {
   "cell_type": "markdown",
   "metadata": {},
   "source": [
    "**Pass to Excel for final coding refinement and quality control:**"
   ]
  },
  {
   "cell_type": "code",
   "execution_count": null,
   "metadata": {},
   "outputs": [],
   "source": [
    "outfile = \"coded_sample.xlsx\"\n",
    "df.to_excel(\n",
    "    os.path.join(\n",
    "        \"..\",\n",
    "        \"data\",\n",
    "        \"coding\",\n",
    "        \"raw\",\n",
    "        outfile\n",
    "    ),\n",
    "    index=False,\n",
    "    sheet_name=\"doccano_sample\"\n",
    ")"
   ]
  },
  {
   "cell_type": "markdown",
   "metadata": {},
   "source": [
    "`<-- END -->`"
   ]
  }
 ],
 "metadata": {
  "kernelspec": {
   "display_name": "idw-article",
   "language": "python",
   "name": "python3"
  },
  "language_info": {
   "codemirror_mode": {
    "name": "ipython",
    "version": 3
   },
   "file_extension": ".py",
   "mimetype": "text/x-python",
   "name": "python",
   "nbconvert_exporter": "python",
   "pygments_lexer": "ipython3",
   "version": "3.9.19"
  }
 },
 "nbformat": 4,
 "nbformat_minor": 2
}
