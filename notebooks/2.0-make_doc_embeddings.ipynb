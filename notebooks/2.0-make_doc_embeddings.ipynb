{
 "cells": [
  {
   "cell_type": "markdown",
   "metadata": {},
   "source": [
    "## Make Document Embeddings\n",
    "\n",
    "**NOTE:** This notebook was run on a Paperspace Gradient instance."
   ]
  },
  {
   "cell_type": "code",
   "execution_count": null,
   "id": "3284a087-6bf5-468c-9ddf-fd0c484a1847",
   "metadata": {},
   "outputs": [],
   "source": [
    "import os\n",
    "\n",
    "import numpy as np\n",
    "import pandas as pd\n",
    "\n",
    "from sentence_transformers import SentenceTransformer\n",
    "\n",
    "from utils.data import load_data\n",
    "from utils.embeddings import (\n",
    "    make_embeddings,\n",
    "    save_embeddings\n",
    ")\n",
    "\n",
    "from tqdm import tqdm\n",
    "tqdm.pandas()"
   ]
  },
  {
   "cell_type": "markdown",
   "id": "1eb9a0ce-85e0-4123-afeb-40d4fe55a323",
   "metadata": {},
   "source": [
    "## Load the data\n",
    "**NOTE:** This notebook was run on a Paperspace Gradient. \n",
    "- Fetch from the Gradient dataset."
   ]
  },
  {
   "cell_type": "code",
   "execution_count": null,
   "id": "8dd2897e-5980-4740-b584-76296aaaae79",
   "metadata": {},
   "outputs": [],
   "source": [
    "DATA = 'training_data/training_data.csv'\n",
    "df = load_data(DATA)\n",
    "print(f'N sentences: {len(df)}')\n",
    "print(f'N unique posts/comments: {len(df[\"full_id\"].unique())}')"
   ]
  },
  {
   "cell_type": "markdown",
   "id": "0b45d311-4e45-493b-af19-09a68572edfd",
   "metadata": {},
   "source": [
    "### Inspect data:"
   ]
  },
  {
   "cell_type": "code",
   "execution_count": null,
   "id": "c24538b7-02b0-465b-b38c-fab29c480e6c",
   "metadata": {},
   "outputs": [],
   "source": [
    "df.head()"
   ]
  },
  {
   "cell_type": "markdown",
   "id": "dba763d6-cf1d-4d1d-b308-cc3dc48b76d5",
   "metadata": {},
   "source": [
    "## Make Embeddings\n",
    "- Choose the SentenceTransformer model by setting the `EMBEDDING_MODEL` parameter: here, I use **[all-mpnet-base-v2](https://huggingface.co/sentence-transformers/all-mpnet-base-v2)**.\n",
    "- The embeddings will automatically be saved to the `embeddings` subfolder.\n",
    "- If the path for the chosen embedding model exists, then encoding is skipped."
   ]
  },
  {
   "cell_type": "code",
   "execution_count": null,
   "id": "5470572d-4fb2-4761-8ebc-c045f280fba0",
   "metadata": {},
   "outputs": [],
   "source": [
    "%%time\n",
    "\n",
    "EMBEDDING_MODEL = 'all-mpnet-base-v2'\n",
    "EMBEDDING_MODEL_PATH = os.path.join('embeddings', f'{EMBEDDING_MODEL}.pickle')\n",
    "\n",
    "if not os.path.exists(EMBEDDING_MODEL_PATH):\n",
    "    print(f'No {EMBEDDING_MODEL} embeddings found: making embeddings')\n",
    "    embeddings = make_embeddings(df=df, doc_column='text', model=EMBEDDING_MODEL)\n",
    "    \n",
    "    print(f'Saving {EMBEDDING_MODEL} embeddings')\n",
    "    save_embeddings(embeddings, EMBEDDING_MODEL_PATH)\n",
    "else:\n",
    "    print(f'Found {EMBEDDING_MODEL} at {EMBEDDING_MODEL_PATH}: skipping encoding.')\n",
    "    \n",
    "print('Done!')"
   ]
  },
  {
   "cell_type": "markdown",
   "id": "693fe018-0708-4be5-a7c9-9ed088fb4e7a",
   "metadata": {},
   "source": [
    "`---Complete---`"
   ]
  }
 ],
 "metadata": {
  "kernelspec": {
   "display_name": "Python 3",
   "language": "python",
   "name": "python3"
  },
  "language_info": {
   "codemirror_mode": {
    "name": "ipython",
    "version": 3
   },
   "file_extension": ".py",
   "mimetype": "text/x-python",
   "name": "python",
   "nbconvert_exporter": "python",
   "pygments_lexer": "ipython3",
   "version": "3.8.10"
  }
 },
 "nbformat": 4,
 "nbformat_minor": 5
}
