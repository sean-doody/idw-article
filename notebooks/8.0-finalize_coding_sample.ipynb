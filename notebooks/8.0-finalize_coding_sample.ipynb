{
 "cells": [
  {
   "cell_type": "markdown",
   "metadata": {},
   "source": [
    "## Coding Finalization"
   ]
  },
  {
   "cell_type": "code",
   "execution_count": null,
   "metadata": {},
   "outputs": [],
   "source": [
    "import os\n",
    "import pandas as pd\n",
    "import sqlite3"
   ]
  },
  {
   "cell_type": "markdown",
   "metadata": {},
   "source": [
    "## Load Data"
   ]
  },
  {
   "cell_type": "code",
   "execution_count": null,
   "metadata": {},
   "outputs": [],
   "source": [
    "data_dir = os.path.join(\n",
    "    \"..\",\n",
    "    \"data\",\n",
    "    \"coding\",\n",
    "    \"doccano\",\n",
    "    \"final\"\n",
    ")\n",
    "\n",
    "file = \"final_coded_sample.xlsx\"\n",
    "\n",
    "df = pd.read_excel(os.path.join(data_dir, file))\n",
    "\n",
    "# fetch all SQL records for computing aggregate stats:\n",
    "sql_path = os.path.join(\n",
    "    \"..\", \n",
    "    \"data\", \n",
    "    \"sqlite\", \n",
    "    \"idw_reddit.db\"\n",
    ")\n",
    "\n",
    "sql_df = pd.DataFrame()\n",
    "\n",
    "conn = sqlite3.connect(sql_path)\n",
    "for table in [\"comments\", \"posts\"]:\n",
    "    tbl_data = pd.read_sql(\n",
    "        f\"SELECT id, full_id, unique_id, author, date FROM {table}\",\n",
    "        con=conn\n",
    "    )\n",
    "    \n",
    "    tbl_data[\"table\"] = table\n",
    "    \n",
    "    sql_df = pd.concat([sql_df, tbl_data])\n",
    "    del tbl_data\n",
    "conn.close()\n",
    "\n",
    "sql_df[\"date\"] = pd.to_datetime(sql_df[\"date\"])\n",
    "sql_df[\"month_year\"] = sql_df[\"date\"].dt.strftime(\"%Y-%m\")"
   ]
  },
  {
   "cell_type": "code",
   "execution_count": null,
   "metadata": {},
   "outputs": [],
   "source": [
    "df.head()"
   ]
  },
  {
   "cell_type": "code",
   "execution_count": null,
   "metadata": {},
   "outputs": [],
   "source": [
    "sql_df.head()"
   ]
  },
  {
   "cell_type": "markdown",
   "metadata": {},
   "source": [
    "**Add usernames to posts and comments:**"
   ]
  },
  {
   "cell_type": "code",
   "execution_count": null,
   "metadata": {},
   "outputs": [],
   "source": [
    "author_mapper = dict(zip(sql_df[\"full_id\"], sql_df[\"author\"]))\n",
    "df[\"author\"] = df[\"full_id\"].map(author_mapper)"
   ]
  },
  {
   "cell_type": "code",
   "execution_count": null,
   "metadata": {},
   "outputs": [],
   "source": [
    "df.head()"
   ]
  },
  {
   "cell_type": "markdown",
   "metadata": {},
   "source": [
    "## Recodes\n",
    "- Merge `vaccine hesitancy` into main vaccine category.\n",
    "  - It makes more sense to discuss overall vaccine concerns under one label for this data.\n",
    "- Merge `masking efficacy & necessity` into `public health policies`.\n",
    "- Remove `conspiracy theorizing`\n",
    "  - This topic is redundant and does not add sufficient information.\n",
    "  - Important points are adequately represented by other categories and covered by the Anti-Contrarianism and Contrarianism indicators.\n",
    "- Merge `big pharma` into `trust in institutions & experts`\n",
    "  - Somewhat redundant; core themes are about trusting pharmaceuticals."
   ]
  },
  {
   "cell_type": "code",
   "execution_count": null,
   "metadata": {},
   "outputs": [],
   "source": [
    "df.loc[df[\"Anti-vaxx & Vaccine Hesitancy\"]==1, \"Vaccine Safety & Efficacy\"] = 1\n",
    "df.loc[df[\"Masking Efficacy & Necessity\"]==1, \"Government & Public Health Policies\"] = 1\n",
    "df.loc[df[\"Big Pharma\"]==1, \"Trust in Institutions & Experts\"] = 1"
   ]
  },
  {
   "cell_type": "code",
   "execution_count": null,
   "metadata": {},
   "outputs": [],
   "source": [
    "assert(len(df.loc[(df[\"Anti-vaxx & Vaccine Hesitancy\"]==1) & (df[\"Vaccine Safety & Efficacy\"]==0)])) == 0, \"Error: length mismatch for Anti-vaxx recode.\"\n",
    "assert(len(df.loc[(df[\"Masking Efficacy & Necessity\"]==1) & (df[\"Government & Public Health Policies\"]==0)])) == 0, \"Error: length mismatch for Masking Efficacy recode.\"\n",
    "assert(len(df.loc[(df[\"Big Pharma\"]==1) & (df[\"Trust in Institutions & Experts\"]==0)])) == 0, \"Error: length mismatch for Big Pharma recode.\""
   ]
  },
  {
   "cell_type": "code",
   "execution_count": null,
   "metadata": {},
   "outputs": [],
   "source": [
    "# removals:\n",
    "drop_columns = [\n",
    "    \"Anti-vaxx & Vaccine Hesitancy\", \n",
    "    \"Masking Efficacy & Necessity\",\n",
    "    \"Conspiracy Theorizing\",\n",
    "    \"Big Pharma\"\n",
    "]\n",
    "\n",
    "# renames:\n",
    "category_mapper = {\n",
    "    \"Vaccine Safety & Efficacy\": \"Vaccine Safety, Efficacy & Hesitancy\",\n",
    "    \"Government & Public Health Policies\": \"Public Health Policies\",\n",
    "    \"Politicization and \\\"Issue Creep\\\"\": \"Politicization & Issue Creep\",\n",
    "    \"IDW & Collective Identity\": \"The IDW\",\n",
    "    \"new_topic\": \"topic\",\n",
    "    \"Comments\": \"comments\"\n",
    "}\n",
    "\n",
    "# drop & rename:\n",
    "df.drop(columns=drop_columns, inplace=True)\n",
    "df.rename(columns=category_mapper, inplace=True)\n",
    "\n",
    "# check:\n",
    "assert len(df[(df[\"Contrarianism\"]==1) & (df[\"Anti-Contrarianism\"]==1)]) == 0, \"Error!\""
   ]
  },
  {
   "cell_type": "markdown",
   "metadata": {},
   "source": [
    "## Save Data"
   ]
  },
  {
   "cell_type": "markdown",
   "metadata": {},
   "source": [
    "### Columns"
   ]
  },
  {
   "cell_type": "code",
   "execution_count": null,
   "metadata": {},
   "outputs": [],
   "source": [
    "contrarian_cols = [\"Anti-Contrarianism\", \"Contrarianism\"]\n",
    "\n",
    "category_cols = [col for col in df.columns[13:] if col not in contrarian_cols and col != \"author\"]\n",
    "\n",
    "cols_to_keep = [\n",
    "    \"doccano_id\", \n",
    "    \"full_id\",\n",
    "    \"unique_id\",\n",
    "    \"comments\",\n",
    "    \"url\",\n",
    "    \"author\",\n",
    "    \"text\", \n",
    "    \"sample_source\", \n",
    "    \"score\", \n",
    "    \"topic\",\n",
    "    \"month_year\"\n",
    "]\n",
    "\n",
    "df = df[cols_to_keep + contrarian_cols + category_cols]"
   ]
  },
  {
   "cell_type": "code",
   "execution_count": null,
   "metadata": {},
   "outputs": [],
   "source": [
    "df.head()"
   ]
  },
  {
   "cell_type": "markdown",
   "metadata": {},
   "source": [
    "### Export"
   ]
  },
  {
   "cell_type": "code",
   "execution_count": null,
   "metadata": {},
   "outputs": [],
   "source": [
    "out_dir = os.path.join(\n",
    "    \"..\",\n",
    "    \"data\",\n",
    "    \"coding\",\n",
    "    \"analysis_sample\"\n",
    ")\n",
    "\n",
    "out_file = \"idw_reddit_posts.csv\"\n",
    "\n",
    "df.to_csv(os.path.join(out_dir, out_file), index=False)"
   ]
  }
 ],
 "metadata": {
  "kernelspec": {
   "display_name": "idw-article",
   "language": "python",
   "name": "python3"
  },
  "language_info": {
   "codemirror_mode": {
    "name": "ipython",
    "version": 3
   },
   "file_extension": ".py",
   "mimetype": "text/x-python",
   "name": "python",
   "nbconvert_exporter": "python",
   "pygments_lexer": "ipython3",
   "version": "3.9.19"
  }
 },
 "nbformat": 4,
 "nbformat_minor": 2
}
