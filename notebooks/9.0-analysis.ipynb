{
 "cells": [
  {
   "cell_type": "code",
   "execution_count": null,
   "metadata": {},
   "outputs": [],
   "source": [
    "import os\n",
    "import json\n",
    "\n",
    "import sqlite3\n",
    "import numpy as np\n",
    "import pandas as pd\n",
    "\n",
    "from bertopic import BERTopic\n",
    "\n",
    "from utils.analysis import (\n",
    "    load_and_prep_data\n",
    ")\n",
    "\n",
    "import matplotlib.pyplot as plt\n",
    "import seaborn as sns\n",
    "from  matplotlib.ticker import FuncFormatter\n",
    "\n",
    "from tqdm import tqdm\n",
    "tqdm.pandas()"
   ]
  },
  {
   "cell_type": "markdown",
   "metadata": {},
   "source": [
    "## Load Data\n",
    "\n",
    "- `text_embedding_path`: path to new-line JSON file of document emebddings.\n",
    "- `data_path`: path to processed CSV file containing analytic sample.\n",
    "- `sql_path`: path to SQL database to grab additional columns.\n",
    "- `topic_mapper_path`: path to JSON file mapping observation IDs to topic groups.\n",
    "- `score_mapper_path`: path to JSON file mapping observation IDs to updated scores."
   ]
  },
  {
   "cell_type": "code",
   "execution_count": null,
   "metadata": {},
   "outputs": [],
   "source": [
    "data_path = os.path.join(\n",
    "    \"..\",\n",
    "    \"data\",\n",
    "    \"topic_data\",\n",
    "    \"topic_data.csv\"\n",
    ")\n",
    "\n",
    "sql_path = os.path.join(\n",
    "    \"..\", \n",
    "    \"data\", \n",
    "    \"sqlite\", \n",
    "    \"idw_reddit.db\"\n",
    ")\n",
    "\n",
    "topic_mapper_path = os.path.join(\n",
    "    \"..\", \n",
    "    \"data\", \n",
    "    \"topic_data\", \n",
    "    \"labels\", \n",
    "    \"topic_mapper.json\"\n",
    ")\n",
    "\n",
    "score_mapper_path = os.path.join(\n",
    "    \"..\", \n",
    "    \"data\", \n",
    "    \"updated_scores\", \n",
    "    \"score_mapper.json\"\n",
    ")\n",
    "\n",
    "# load & prep topic data:\n",
    "df = load_and_prep_data(\n",
    "    data=data_path, \n",
    "    sql_db=sql_path, \n",
    "    topic_group_file=topic_mapper_path, \n",
    "    score_file=score_mapper_path\n",
    ")\n",
    "\n",
    "# fetch coded data:\n",
    "coded_data = pd.read_csv(\n",
    "    os.path.join(\n",
    "        \"..\",\n",
    "        \"data\",\n",
    "        \"coding\",\n",
    "        \"analysis_sample\",\n",
    "        \"idw_reddit_posts.csv\"\n",
    "    )\n",
    ")\n",
    "\n",
    "# fetch all SQL records for computing aggregate stats:\n",
    "sql_df = pd.DataFrame()\n",
    "\n",
    "conn = sqlite3.connect(sql_path)\n",
    "for table in [\"comments\", \"posts\"]:\n",
    "    tbl_data = pd.read_sql(\n",
    "        f\"SELECT id, full_id, unique_id, author, date FROM {table}\",\n",
    "        con=conn\n",
    "    )\n",
    "    \n",
    "    tbl_data[\"table\"] = table\n",
    "    \n",
    "    sql_df = pd.concat([sql_df, tbl_data])\n",
    "    del tbl_data\n",
    "conn.close()\n",
    "\n",
    "sql_df[\"date\"] = pd.to_datetime(sql_df[\"date\"])\n",
    "sql_df[\"month_year\"] = sql_df[\"date\"].dt.strftime(\"%Y-%m\")"
   ]
  },
  {
   "cell_type": "code",
   "execution_count": null,
   "metadata": {},
   "outputs": [],
   "source": [
    "df.head(10)"
   ]
  },
  {
   "cell_type": "code",
   "execution_count": null,
   "metadata": {},
   "outputs": [],
   "source": [
    "coded_data.head(10)"
   ]
  },
  {
   "cell_type": "code",
   "execution_count": null,
   "metadata": {},
   "outputs": [],
   "source": [
    "sql_df.head(10)"
   ]
  },
  {
   "cell_type": "markdown",
   "metadata": {},
   "source": [
    "**Load BERtopic model:**"
   ]
  },
  {
   "cell_type": "code",
   "execution_count": null,
   "metadata": {},
   "outputs": [],
   "source": [
    "NEW_MODEL = \"updated_bertopic_model\"\n",
    "NEW_MODEL_PATH = os.path.join(\"..\", \"data\", \"topic_data\", NEW_MODEL)\n",
    "topic_model = BERTopic.load(NEW_MODEL_PATH)"
   ]
  },
  {
   "cell_type": "code",
   "execution_count": null,
   "metadata": {},
   "outputs": [],
   "source": [
    "topic_model.get_topic_info()"
   ]
  },
  {
   "cell_type": "code",
   "execution_count": null,
   "metadata": {},
   "outputs": [],
   "source": [
    "topic_df = topic_model.get_topic_info()\n",
    "TOTAL_N = topic_df.iloc[1:][\"Count\"].sum()\n",
    "covid_topics = [1, 6, 29, 63, 74, 96, 115, 167, 168, 178, 194, 200, 215, 224, 234, 236, 242]\n",
    "topic_df = topic_df.loc[topic_df[\"Topic\"].isin(covid_topics)]\n",
    "topic_df[\"Percent\"] = round((topic_df[\"Count\"] / TOTAL_N)*100, 2)\n",
    "topic_df = topic_df[[\"Topic\", \"Representation\", \"Count\", \"Percent\"]]\n",
    "topic_df.sort_values(\"Topic\", ascending=True, inplace=True)\n",
    "topic_df.reset_index(drop=True, inplace=True)\n",
    "topic_df[\"Representation\"] = topic_df[\"Representation\"].apply(lambda row: \", \".join(row))\n",
    "\n",
    "topic_df.rename(\n",
    "    columns={\n",
    "        \"Topic\": \"Topic ID\",\n",
    "        \"Representation\": \"Top 20 Words\"\n",
    "    },\n",
    "    inplace=True\n",
    ")"
   ]
  },
  {
   "cell_type": "code",
   "execution_count": null,
   "metadata": {},
   "outputs": [],
   "source": [
    "topic_df"
   ]
  },
  {
   "cell_type": "markdown",
   "metadata": {},
   "source": [
    "##### Save table:"
   ]
  },
  {
   "cell_type": "code",
   "execution_count": null,
   "metadata": {},
   "outputs": [],
   "source": [
    "topic_df[[\"Topic ID\", \"Top 20 Words\"]].to_excel(\n",
    "    os.path.join(\n",
    "        \"..\",\n",
    "        \"manuscript\",\n",
    "        \"tables\",\n",
    "        \"covid_topics.xlsx\"\n",
    "    ),\n",
    "    sheet_name=\"covid_topics\",\n",
    "    index=False\n",
    ")"
   ]
  },
  {
   "cell_type": "markdown",
   "metadata": {},
   "source": [
    "## Subreddit Overview"
   ]
  },
  {
   "cell_type": "markdown",
   "metadata": {},
   "source": [
    "### Figure Aesthetics"
   ]
  },
  {
   "cell_type": "code",
   "execution_count": null,
   "metadata": {},
   "outputs": [],
   "source": [
    "axis_font = {\"font\": \"Reddit Mono\", \"size\": 8}\n",
    "label_font = {\"font\": \"Roboto\", \"size\": 9, \"weight\": \"bold\"}\n",
    "qual_labels = {\"font\": \"Roboto\", \"size\": 9, \"weight\": \"normal\"}\n",
    "subplot_title = {\"font\": \"Roboto\", \"size\": 12}\n",
    "legend_labels = {\"family\": \"Roboto\", \"size\": 9, \"weight\": \"normal\"}"
   ]
  },
  {
   "cell_type": "markdown",
   "metadata": {},
   "source": [
    "### Subreddit Stats & Covid-19 Topic Stats"
   ]
  },
  {
   "cell_type": "markdown",
   "metadata": {},
   "source": [
    "#### Overall Counts (Joint Plot)"
   ]
  },
  {
   "cell_type": "code",
   "execution_count": null,
   "metadata": {},
   "outputs": [],
   "source": [
    "monthly_freqs = sql_df.groupby(\"month_year\").size().reset_index(name=\"count\")\n",
    "\n",
    "covid_topics = [1, 6, 29, 63, 74, 96, 115, 167, 168, 178, 194, 200, 215, 224, 234, 236, 242]\n",
    "covid_freqs = df.loc[df[\"new_topic\"].isin(covid_topics)].groupby(\"month_year\").size().reset_index(name=\"count\")\n",
    "\n",
    "sns.set_style(\"white\")\n",
    "colors = sns.color_palette().as_hex()\n",
    "\n",
    "fig, axes = plt.subplots(2,1, figsize=(12,10))\n",
    "sns.lineplot(monthly_freqs, x=\"month_year\", y=\"count\", ax=axes[0], c=\"black\", lw=2)\n",
    "sns.lineplot(covid_freqs, x=\"month_year\", y=\"count\", ax=axes[1], c=\"black\", lw=2)\n",
    "sns.despine(offset=5, left=True)\n",
    "\n",
    "# axis 0:\n",
    "axes[0].set_title(\"All Comments and Posts\", fontdict=subplot_title)\n",
    "axes[0].set_yticks(list(range(0,30000+2000,2000)))\n",
    "\n",
    "# axis 1:\n",
    "axes[1].set_title(\"Comments and Posts in Covid-19 Related Topics\", fontdict=subplot_title)\n",
    "\n",
    "for ax in axes:\n",
    "    ax.set_xticklabels(ax.get_xticklabels(), rotation=90, fontdict=axis_font)\n",
    "    ax.set_yticklabels(ax.get_yticklabels(), fontdict=axis_font)\n",
    "    ax.yaxis.grid(True, linestyle='--', color='gray', alpha=0.5)\n",
    "    ax.set_xlabel(\"Date\", fontdict=label_font, labelpad=10)\n",
    "    ax.set_ylabel(\"Count\", fontdict=label_font, labelpad=10)\n",
    "    ax.set_xlim(0, \"2022-12\")\n",
    "\n",
    "plt.subplots_adjust(hspace=0.4)\n",
    "plt.show()"
   ]
  },
  {
   "cell_type": "markdown",
   "metadata": {},
   "source": [
    "#### COVID-19 Topics Only:"
   ]
  },
  {
   "cell_type": "code",
   "execution_count": null,
   "metadata": {},
   "outputs": [],
   "source": [
    "covid_topics = [1, 6, 29, 63, 74, 96, 115, 167, 168, 178, 194, 200, 215, 224, 234, 236, 242]\n",
    "covid_freqs = df.loc[df[\"new_topic\"].isin(covid_topics)].groupby(\"month_year\").size().reset_index(name=\"count\")\n",
    "\n",
    "sns.set_style(\"white\")\n",
    "colors = sns.color_palette().as_hex()\n",
    "\n",
    "fig, ax = plt.subplots(1,1, figsize=(10,4))\n",
    "sns.lineplot(covid_freqs, x=\"month_year\", y=\"count\", ax=ax, c=\"black\", lw=2)\n",
    "sns.despine(offset=5, left=True)\n",
    "\n",
    "ax.set_xticklabels(ax.get_xticklabels(), rotation=90, fontdict=axis_font)\n",
    "ax.set_yticklabels(ax.get_yticklabels(), fontdict=axis_font)\n",
    "ax.yaxis.grid(True, linestyle='--', color='gray', alpha=0.5)\n",
    "ax.set_xlabel(\"Date\", fontdict=label_font, labelpad=10)\n",
    "ax.set_ylabel(\"Count\", fontdict=label_font, labelpad=10)\n",
    "ax.set_xlim(0, \"2022-12\")\n",
    "\n",
    "plt.subplots_adjust(hspace=0.4)\n",
    "plt.tight_layout()\n",
    "plt.savefig(\n",
    "    os.path.join(\n",
    "        \"..\",\n",
    "        \"manuscript\",\n",
    "        \"revisions\",\n",
    "        \"figures\",\n",
    "        \"covid_topic_counts.jpg\"\n",
    "    ),\n",
    "    dpi=300,\n",
    "    bbox_inches=\"tight\"\n",
    ")\n",
    "\n",
    "plt.show()"
   ]
  },
  {
   "cell_type": "markdown",
   "metadata": {},
   "source": [
    "#### Users"
   ]
  },
  {
   "cell_type": "code",
   "execution_count": null,
   "metadata": {},
   "outputs": [],
   "source": [
    "# unique users:\n",
    "user_df = sql_df.loc[sql_df[\"author\"] != \"[deleted]\"]\n",
    "user_df = user_df.groupby(\"month_year\").agg({\"author\": set})\n",
    "user_df[\"n_unique_users\"] = user_df[\"author\"].apply(lambda row: len(row))\n",
    "user_df.reset_index(inplace=True)\n",
    "\n",
    "# deleted users:\n",
    "deleted_users = sql_df.loc[sql_df[\"author\"] == \"[deleted]\"]\n",
    "deleted_users = deleted_users.groupby(\"month_year\").size().reset_index(name=\"count\")\n",
    "deleted_users.sort_values(\"month_year\", inplace=True)"
   ]
  },
  {
   "cell_type": "code",
   "execution_count": null,
   "metadata": {},
   "outputs": [],
   "source": [
    "user_df.head()"
   ]
  },
  {
   "cell_type": "code",
   "execution_count": null,
   "metadata": {},
   "outputs": [],
   "source": [
    "deleted_users.head()"
   ]
  },
  {
   "cell_type": "code",
   "execution_count": null,
   "metadata": {},
   "outputs": [],
   "source": [
    "sns.set_style(\"white\")\n",
    "colors = sns.color_palette().as_hex()\n",
    "\n",
    "fig, ax = plt.subplots(1,1, figsize=(11,5))\n",
    "sns.lineplot(\n",
    "    user_df, \n",
    "    x=\"month_year\", \n",
    "    y=\"n_unique_users\", \n",
    "    ax=ax, \n",
    "    c=\"black\",\n",
    "    lw=2, \n",
    "    label=\"Number of Unique Users\"\n",
    ")\n",
    "sns.lineplot(\n",
    "    deleted_users, \n",
    "    x=\"month_year\", \n",
    "    y=\"count\", \n",
    "    ax=ax, \n",
    "    c=\"gray\", \n",
    "    ls=\"--\", \n",
    "    lw=2, \n",
    "    label=\"Number of Comments & Posts from Deleted Users\",\n",
    "    zorder=0\n",
    ")\n",
    "sns.despine(offset=5, left=True)\n",
    "ax.set_yticks(list(range(0,4200+200,200)))\n",
    "ax.set_yticklabels(ax.get_yticklabels(), fontdict=axis_font)\n",
    "ax.set_xticklabels(ax.get_xticklabels(), rotation=90, fontdict=axis_font)\n",
    "ax.yaxis.grid(True, linestyle='--', color='gray', alpha=0.5)\n",
    "ax.xaxis.grid(True, linestyle='--', color='gray', alpha=0.5)\n",
    "ax.set_xlabel(\"Date\", fontdict=label_font, labelpad=10)\n",
    "ax.set_ylabel(\"Count\", fontdict=label_font, labelpad=10)\n",
    "ax.set_xlim(0, \"2022-12\")\n",
    "\n",
    "ax.legend(\n",
    "    prop=legend_labels, \n",
    "    fancybox=True, \n",
    "    edgecolor=\"black\",\n",
    "    ncol=1,\n",
    "    shadow=True\n",
    ")\n",
    "\n",
    "plt.tight_layout()\n",
    "plt.subplots_adjust(hspace=0.4)\n",
    "plt.savefig(\n",
    "    os.path.join(\n",
    "        \"..\", \n",
    "        \"manuscript\",\n",
    "        \"revisions\",\n",
    "        \"figures\",\n",
    "        \"users.jpg\"\n",
    "    ),\n",
    "    dpi=300,\n",
    "    bbox_inches=\"tight\"\n",
    ")\n",
    "\n",
    "plt.show()"
   ]
  },
  {
   "cell_type": "code",
   "execution_count": null,
   "metadata": {},
   "outputs": [],
   "source": [
    "user_df[\"n_unique_users\"].mean()"
   ]
  },
  {
   "cell_type": "code",
   "execution_count": null,
   "metadata": {},
   "outputs": [],
   "source": [
    "user_df.loc[user_df[\"month_year\"] >= \"2020-01\"][\"n_unique_users\"].mean()"
   ]
  },
  {
   "cell_type": "code",
   "execution_count": null,
   "metadata": {},
   "outputs": [],
   "source": [
    "deleted_users[\"count\"].mean()"
   ]
  },
  {
   "cell_type": "code",
   "execution_count": null,
   "metadata": {},
   "outputs": [],
   "source": [
    "deleted_users.loc[deleted_users[\"month_year\"] >= \"2020-01\"][\"count\"].mean()"
   ]
  },
  {
   "cell_type": "markdown",
   "metadata": {},
   "source": [
    "## Coded Data"
   ]
  },
  {
   "cell_type": "code",
   "execution_count": null,
   "metadata": {},
   "outputs": [],
   "source": [
    "coded_data"
   ]
  },
  {
   "cell_type": "code",
   "execution_count": null,
   "metadata": {},
   "outputs": [],
   "source": [
    "author_sets = coded_data.groupby(\"sample_source\").agg({\"author\": set}).reset_index()\n",
    "author_sets[\"author\"] = author_sets[\"author\"].apply(lambda row: {i for i in row if i != \"[deleted]\"})\n",
    "author_sets[\"n_authors\"] = author_sets[\"author\"].apply(lambda row: len(row))"
   ]
  },
  {
   "cell_type": "code",
   "execution_count": null,
   "metadata": {},
   "outputs": [],
   "source": [
    "author_sets"
   ]
  },
  {
   "cell_type": "code",
   "execution_count": null,
   "metadata": {},
   "outputs": [],
   "source": [
    "for sample in [\"highest\", \"lowest\", \"random\"]:\n",
    "    gt1 = []\n",
    "    counts = coded_data.loc[coded_data[\"sample_source\"]==sample][\"author\"].value_counts().to_dict()\n",
    "    conts = {k:v for k,v in counts.items() if k != \"[deleted]\"}\n",
    "    for k,v in counts.items():\n",
    "        if v == 1:\n",
    "            gt1.append(k)\n",
    "    print(f\"{sample}: {len(gt1)}\")"
   ]
  },
  {
   "cell_type": "code",
   "execution_count": null,
   "metadata": {},
   "outputs": [],
   "source": [
    "for sample in [\"highest\", \"lowest\", \"random\"]:\n",
    "    gt1 = []\n",
    "    counts = coded_data.loc[coded_data[\"sample_source\"]==sample][\"author\"].value_counts().to_dict()\n",
    "    conts = {k:v for k,v in counts.items() if k != \"[deleted]\"}\n",
    "    for k,v in counts.items():\n",
    "        if v == 1:\n",
    "            gt1.append(k)\n",
    "    print(f\"{sample}: {len(gt1)}\")"
   ]
  },
  {
   "cell_type": "markdown",
   "metadata": {},
   "source": [
    "##### Summary Statistics"
   ]
  },
  {
   "cell_type": "code",
   "execution_count": null,
   "metadata": {},
   "outputs": [],
   "source": [
    "coded_data[\"Neutral\"] = 0\n",
    "coded_data.loc[(coded_data[\"Anti-Contrarianism\"]==0) & (coded_data[\"Contrarianism\"]==0), \"Neutral\"] = 1\n",
    "coded_data[\"sample_source\"] = coded_data[\"sample_source\"].replace(\n",
    "    {\"highest\": \"Most Upvoted\", \"lowest\": \"Most Downvoted\", \"random\": \"Random\"}\n",
    ")\n",
    "coded_data[\"sample_source\"] = pd.Categorical(coded_data[\"sample_source\"], [\"Most Upvoted\", \"Most Downvoted\", \"Random\"])"
   ]
  },
  {
   "cell_type": "code",
   "execution_count": null,
   "metadata": {},
   "outputs": [],
   "source": [
    "value_cols = [\"Anti-Contrarianism\", \"Contrarianism\", \"Neutral\"]\n",
    "\n",
    "pivot_df = coded_data.pivot_table(\n",
    "    index=\"sample_source\",\n",
    "    values=value_cols,\n",
    "    aggfunc=\"sum\",\n",
    "    fill_value=0\n",
    ")\n",
    "\n",
    "pivot_df[\"Total\"] = pivot_df.sum(axis=1)\n",
    "\n",
    "for i,row in pivot_df.iterrows():\n",
    "    for col in value_cols:\n",
    "        per = round((row[col] / row[\"Total\"])*100, 1)\n",
    "        pivot_df.loc[i, col] = f\"{row[col]}\\n({per}%)\"\n",
    "        \n",
    "pivot_df.index.names = [\"Sample Source\"]"
   ]
  },
  {
   "cell_type": "code",
   "execution_count": null,
   "metadata": {},
   "outputs": [],
   "source": [
    "pivot_df"
   ]
  },
  {
   "cell_type": "code",
   "execution_count": null,
   "metadata": {},
   "outputs": [],
   "source": [
    "pivot_df.to_excel(\n",
    "    os.path.join(\n",
    "        \"..\",\n",
    "        \"manuscript\",\n",
    "        \"tables\",\n",
    "        \"sample_source_stats.xlsx\"\n",
    "    ),\n",
    "    index=True,\n",
    "    sheet_name=\"statistics\"\n",
    ")"
   ]
  },
  {
   "cell_type": "markdown",
   "metadata": {},
   "source": [
    "### Temporal Trends in Contrarian & Anti-Contrarian Observations"
   ]
  },
  {
   "cell_type": "code",
   "execution_count": null,
   "metadata": {},
   "outputs": [],
   "source": [
    "fig, ax = plt.subplots(1,1, figsize=(10,5))\n",
    "colors = sns.color_palette().as_hex()\n",
    "\n",
    "contrarian_data = (\n",
    "    coded_data.loc[coded_data[\"Contrarianism\"] == 1]\n",
    "    .groupby(\"month_year\")\n",
    "    .size()\n",
    "    .reset_index(name=\"count\")\n",
    ")\n",
    "\n",
    "\n",
    "anti_cont_data = (\n",
    "    coded_data.loc[coded_data[\"Anti-Contrarianism\"] == 1]\n",
    "    .groupby(\"month_year\")\n",
    "    .size()\n",
    "    .reset_index(name=\"count\")\n",
    ")\n",
    "\n",
    "# fill in dates with no counts:\n",
    "full_date_set = sorted(sql_df[\"month_year\"].unique())\n",
    "start_idx = full_date_set.index(\"2020-01\")\n",
    "\n",
    "for date in full_date_set[start_idx:]:\n",
    "    if date not in contrarian_data[\"month_year\"].unique():\n",
    "        contrarian_data = pd.concat(\n",
    "            [\n",
    "                contrarian_data,\n",
    "                pd.DataFrame({\"month_year\": [date], \"count\": [0]})\n",
    "            ]\n",
    "        )\n",
    "    if date not in anti_cont_data[\"month_year\"].unique():\n",
    "        anti_cont_data = pd.concat(\n",
    "            [\n",
    "                anti_cont_data,\n",
    "                pd.DataFrame({\"month_year\": [date], \"count\": [0]})\n",
    "            ]\n",
    "        )\n",
    "\n",
    "contrarian_data[\"type\"] = \"Contrarianism\"\n",
    "anti_cont_data[\"type\"] = \"Anti-Contrarianism\"\n",
    "\n",
    "data = pd.concat([contrarian_data, anti_cont_data])\n",
    "data.sort_values(\"month_year\", inplace=True)\n",
    "\n",
    "sns.lineplot(\n",
    "    data, \n",
    "    x=\"month_year\", \n",
    "    y=\"count\", \n",
    "    hue=\"type\",\n",
    "    ax=ax,\n",
    "    style=\"type\",\n",
    "    lw=2\n",
    ")\n",
    "\n",
    "sns.despine(offset=5, left=True)\n",
    "ax.set_xticklabels(ax.get_xticklabels(), rotation=90, fontdict=axis_font)\n",
    "\n",
    "ax.set_yticks(list(range(0,105+5,5)))\n",
    "ax.set_yticklabels(ax.get_yticklabels(), fontdict=axis_font)\n",
    "ax.yaxis.grid(True, linestyle='--', color='gray', alpha=0.5)\n",
    "ax.set_xlabel(\"Date\", fontdict=label_font, labelpad=10)\n",
    "ax.set_ylabel(\"Count\", fontdict=label_font, labelpad=10)\n",
    "ax.set_xlim(0, \"2022-12\")\n",
    "\n",
    "for t in data[\"type\"].unique():\n",
    "    subset = data.loc[data['type'] == t]\n",
    "    ax.fill_between(subset['month_year'], subset['count'], alpha=0.3)\n",
    "\n",
    "ax.legend(prop=legend_labels, fancybox=False, edgecolor=\"black\")\n",
    "plt.tight_layout()\n",
    "\n",
    "plt.savefig(\n",
    "    os.path.join(\n",
    "        \"..\",\n",
    "        \"manuscript\",\n",
    "        \"revisions\",\n",
    "        \"figures\",\n",
    "        \"contrarianism_anti-contrarianism_trends.jpg\"\n",
    "    ),\n",
    "    dpi=300,\n",
    "    bbox_inches=\"tight\"\n",
    ")\n",
    "\n",
    "plt.show()"
   ]
  },
  {
   "cell_type": "markdown",
   "metadata": {},
   "source": [
    "### Category Counts"
   ]
  },
  {
   "cell_type": "code",
   "execution_count": null,
   "metadata": {},
   "outputs": [],
   "source": [
    "coded_data"
   ]
  },
  {
   "cell_type": "code",
   "execution_count": null,
   "metadata": {},
   "outputs": [],
   "source": [
    "coded_data.columns"
   ]
  },
  {
   "cell_type": "markdown",
   "metadata": {},
   "source": [
    "#### Entire Sample"
   ]
  },
  {
   "cell_type": "code",
   "execution_count": null,
   "metadata": {},
   "outputs": [],
   "source": [
    "assert(len(coded_data) == 1000)\n",
    "\n",
    "N = len(coded_data)\n",
    "cont_values = [\"Anti-Contrarianism\", \"Contrarianism\", \"Neutral\"]\n",
    "categories = coded_data.columns[13:].tolist()\n",
    "categories = [c for c in categories if c not in cont_values]\n",
    "\n",
    "category_counts = (\n",
    "    coded_data[categories]\n",
    "    .melt()\n",
    "    .groupby(\"variable\")[\"value\"]\n",
    "    .sum()\n",
    "    .reset_index(name=\"count\")\n",
    ")\n",
    "\n",
    "category_counts.sort_values(\"count\", ascending=False, inplace=True)\n",
    "category_counts.reset_index(inplace=True, drop=True)\n",
    "category_counts[\"percent_of_obs\"] = round((category_counts[\"count\"] / N) * 100, 2)"
   ]
  },
  {
   "cell_type": "code",
   "execution_count": null,
   "metadata": {},
   "outputs": [],
   "source": [
    "fig, ax = plt.subplots(1, 1, figsize=(8,5))\n",
    "sns.set_style(\"white\")\n",
    "colors = sns.color_palette().as_hex()\n",
    "\n",
    "sns.barplot(\n",
    "    data=category_counts, \n",
    "    x=\"percent_of_obs\", \n",
    "    y=\"variable\", \n",
    "    ax=ax,\n",
    "    alpha=0.85\n",
    ")\n",
    "\n",
    "sns.despine(offset=0, left=False)\n",
    "ax.yaxis.grid(True, linestyle='--', color='gray', alpha=0.5)\n",
    "ax.xaxis.grid(True, linestyle='--', color='gray', alpha=0.5)\n",
    "ax.set_xticklabels(ax.get_xticklabels(), fontdict=axis_font)\n",
    "ax.set_yticklabels(ax.get_yticklabels(), fontdict=qual_labels)\n",
    "ax.set_ylabel(\"\")\n",
    "ax.set_xlabel(\"Percent\", fontdict=label_font, labelpad=5)\n",
    "\n",
    "for i, bar in enumerate(ax.patches):\n",
    "    bar.set_edgecolor(colors[0])\n",
    "\n",
    "xtick_vals = list(range(0,55+5,5))\n",
    "xtick_vals = [float(i) for i in xtick_vals]\n",
    "ax.set_xticks(xtick_vals)\n",
    "ax.set_xticklabels(xtick_vals, fontdict=axis_font)\n",
    "\n",
    "plt.tight_layout()\n",
    "plt.show()"
   ]
  },
  {
   "cell_type": "markdown",
   "metadata": {},
   "source": [
    "#### Sub-sample Counts"
   ]
  },
  {
   "cell_type": "code",
   "execution_count": null,
   "metadata": {},
   "outputs": [],
   "source": [
    "cont_values = [\"Anti-Contrarianism\", \"Contrarianism\", \"Neutral\"]\n",
    "categories = coded_data.columns[13:].tolist()\n",
    "categories = [c for c in categories if c not in cont_values]\n",
    "\n",
    "data_frames = []\n",
    "\n",
    "for sub_type in cont_values:\n",
    "    label = sub_type.lower().replace(\"-\", \"_\")\n",
    "    \n",
    "    N = len(coded_data.loc[coded_data[sub_type]==1])\n",
    "    cats = (\n",
    "        coded_data.loc[coded_data[sub_type]==1][categories]\n",
    "        .melt()\n",
    "        .groupby(\"variable\")[\"value\"]\n",
    "        .sum()\n",
    "        .reset_index(name=f\"{label}_count\")\n",
    "    )\n",
    "\n",
    "    cats.sort_values(f\"{label}_count\", ascending=False, inplace=True)\n",
    "    cats.reset_index(inplace=True, drop=True)\n",
    "    cats[f\"{label}_percent_of_obs\"] = round((cats[f\"{label}_count\"] / N) * 100, 2)\n",
    "    data_frames.append(cats)\n",
    "\n",
    "subsample_cats = data_frames[0].merge(data_frames[1], how=\"left\", on=\"variable\")\n",
    "subsample_cats.sort_values(\"variable\", ascending=True, inplace=True)\n",
    "subsample_cats.reset_index(inplace=True, drop=True)\n",
    "\n",
    "# sort by the max value for each row:\n",
    "# subsample_cats[\"max_sort\"] = 0.0\n",
    "# for i,row in subsample_cats.iterrows():\n",
    "#     subsample_cats.loc[i, \"max_sort\"] = max(row[\"anti_contrarianism_percent_of_obs\"], row[\"contrarianism_percent_of_obs\"])\n",
    "subsample_cats[\"max_sort\"] = subsample_cats[\"anti_contrarianism_count\"] + subsample_cats[\"contrarianism_count\"]\n",
    "    \n",
    "subsample_cats.sort_values(\"max_sort\", ascending=False, inplace=True)\n",
    "subsample_cats.reset_index(inplace=True, drop=True)"
   ]
  },
  {
   "cell_type": "code",
   "execution_count": null,
   "metadata": {},
   "outputs": [],
   "source": [
    "subsample_cats"
   ]
  },
  {
   "cell_type": "code",
   "execution_count": null,
   "metadata": {},
   "outputs": [],
   "source": [
    "fig, ax = plt.subplots(1,1, figsize=(9,6))\n",
    "\n",
    "sns.set_style(\"white\")\n",
    "\n",
    "scatter_size = 75\n",
    "line_width = 1.25\n",
    "ax.scatter(\n",
    "    x=subsample_cats[\"anti_contrarianism_percent_of_obs\"],\n",
    "    y=subsample_cats.index[::-1],\n",
    "    c=colors[0],\n",
    "    s=scatter_size,\n",
    "    label=\"Anti-Contrarianism\"\n",
    ")\n",
    "\n",
    "ax.scatter(\n",
    "    x=subsample_cats[\"contrarianism_percent_of_obs\"],\n",
    "    y=subsample_cats.index[::-1],\n",
    "    c=colors[4],\n",
    "    s=scatter_size,\n",
    "    label=\"Contrarianism\"\n",
    ")\n",
    "\n",
    "sns.despine(offset=0, left=False)\n",
    "ax.set_yticks(subsample_cats.index[::-1])\n",
    "ax.set_yticklabels(subsample_cats[\"variable\"], fontdict=qual_labels)\n",
    "\n",
    "ax.set_xlabel(\"Percentage of Observations\", fontdict=label_font, labelpad=5)\n",
    "xtick_vals = list(range(0,65+5,5))\n",
    "xtick_vals = [float(i) for i in xtick_vals]\n",
    "ax.set_xticks(xtick_vals)\n",
    "ax.set_xticklabels(xtick_vals, fontdict=axis_font)\n",
    "ax.set_xlim(0,65)\n",
    "\n",
    "ax.yaxis.grid(True, linestyle='--', color='gray', alpha=0.5)\n",
    "ax.xaxis.grid(True, linestyle='--', color='gray', alpha=0.5)\n",
    "\n",
    "# dumbbell lines:\n",
    "for idx, p1, p2 in zip(\n",
    "    subsample_cats.index[::-1], \n",
    "    subsample_cats[\"anti_contrarianism_percent_of_obs\"],\n",
    "    subsample_cats[\"contrarianism_percent_of_obs\"]\n",
    "):\n",
    "    ax.plot([p1, p2], [idx, idx], color=\"black\", linestyle=\"-\", lw=line_width, zorder=-1)\n",
    "\n",
    "ax.legend(\n",
    "    prop=legend_labels, \n",
    "    fancybox=True, \n",
    "    edgecolor=\"black\",\n",
    "    ncol=2,\n",
    "    loc=\"upper center\",\n",
    "    bbox_to_anchor=(0.5, 1.06),\n",
    "    shadow=True\n",
    ")\n",
    "\n",
    "plt.tight_layout()\n",
    "\n",
    "plt.savefig(\n",
    "    os.path.join(\n",
    "        \"..\",\n",
    "        \"manuscript\",\n",
    "        \"revisions\",\n",
    "        \"figures\",\n",
    "        \"coded_categories_comparison.jpg\"\n",
    "    ),\n",
    "    dpi=300,\n",
    "    bbox_inches=\"tight\"\n",
    ")\n",
    "\n",
    "plt.show()"
   ]
  },
  {
   "cell_type": "markdown",
   "metadata": {},
   "source": [
    "### Co-Occurrences"
   ]
  },
  {
   "cell_type": "markdown",
   "metadata": {},
   "source": [
    "##### Vaccine category:"
   ]
  },
  {
   "cell_type": "code",
   "execution_count": null,
   "metadata": {},
   "outputs": [],
   "source": [
    "vax = \"Vaccine Safety, Efficacy & Hesitancy\"\n",
    "categories = coded_data.columns[13:].tolist()\n",
    "cont_values = [\"Anti-Contrarianism\", \"Contrarianism\", \"Neutral\"]\n",
    "categories = [c for c in categories if c not in cont_values]\n",
    "cat_df = coded_data.loc[coded_data[vax] == 1][categories]\n",
    "\n",
    "co_occur_df = cat_df.T.dot(cat_df)\n",
    "co_occur_df = co_occur_df.unstack().reset_index()\n",
    "\n",
    "co_occur_df.columns = [\"var1\", \"var2\", \"count\"]\n",
    "co_occur_df = co_occur_df.loc[co_occur_df[\"var1\"] != co_occur_df[\"var2\"]]\n",
    "co_occur_df[\"sorted_labels\"] = co_occur_df.apply(\n",
    "   lambda x: tuple(sorted([x['var1'], x['var2']])), axis=1\n",
    ")\n",
    "\n",
    "co_occur_df = co_occur_df[[\"sorted_labels\", \"count\"]]\n",
    "co_occur_df.drop_duplicates(\"sorted_labels\", inplace=True)\n",
    "co_occur_df.sort_values(\"count\", ascending=False, inplace=True)\n",
    "co_occur_df.reset_index(inplace=True, drop=True)\n",
    "\n",
    "co_occur_df[\"text_labels\"] = co_occur_df[\"sorted_labels\"].apply(\n",
    "   lambda row: f\"{row[0]} — {row[1]}\"\n",
    ")\n",
    "\n",
    "co_occur_df[\"vaccine\"] = co_occur_df[\"sorted_labels\"].apply(\n",
    "   lambda row: np.where((row[0] == vax) | (row[1] == vax), 1, 0)\n",
    ")\n",
    "\n",
    "N = len(coded_data.loc[coded_data[vax]==1])\n",
    "co_occur_df = co_occur_df.loc[co_occur_df[\"vaccine\"]==1]\n",
    "co_occur_df[\"percent_of_obs\"] = round((co_occur_df[\"count\"] / N) * 100, 2)\n",
    "co_occur_df[[\"var1\", \"var2\"]] = co_occur_df[\"sorted_labels\"].tolist()"
   ]
  },
  {
   "cell_type": "code",
   "execution_count": null,
   "metadata": {},
   "outputs": [],
   "source": [
    "co_occur_df"
   ]
  },
  {
   "cell_type": "code",
   "execution_count": null,
   "metadata": {},
   "outputs": [],
   "source": [
    "fig, ax = plt.subplots(1, 1, figsize=(8,5))\n",
    "sns.set_style(\"white\")\n",
    "colors = sns.color_palette().as_hex()\n",
    "\n",
    "sns.barplot(\n",
    "    data=co_occur_df.head(10), \n",
    "    x=\"percent_of_obs\", \n",
    "    y=\"var1\", \n",
    "    ax=ax,\n",
    "    color=\"black\",\n",
    "    alpha=0.75\n",
    ")\n",
    "\n",
    "sns.despine(offset=0, left=False)\n",
    "ax.yaxis.grid(True, linestyle='--', color='gray', alpha=0.5)\n",
    "ax.xaxis.grid(True, linestyle='--', color='gray', alpha=0.5)\n",
    "ax.set_xticklabels(ax.get_xticklabels(), fontdict=axis_font)\n",
    "ax.set_yticklabels(ax.get_yticklabels(), fontdict=qual_labels)\n",
    "ax.set_ylabel(\"\")\n",
    "ax.set_xlabel(\"Percent\", fontdict=label_font, labelpad=5)\n",
    "ax.xaxis.set_major_formatter(FuncFormatter(lambda x, _: float(x)))\n",
    "\n",
    "for i, bar in enumerate(ax.patches):\n",
    "    bar.set_edgecolor(\"black\")\n",
    "\n",
    "xtick_vals = list(range(0,30+5,5))\n",
    "xtick_vals = [float(i) for i in xtick_vals]\n",
    "ax.set_xticks(xtick_vals)\n",
    "ax.set_xticklabels(xtick_vals, fontdict=axis_font)\n",
    "\n",
    "plt.tight_layout()\n",
    "\n",
    "plt.savefig(\n",
    "    os.path.join(\n",
    "        \"..\",\n",
    "        \"manuscript\",\n",
    "        \"revisions\",\n",
    "        \"figures\",\n",
    "        \"vax_co_occurences.jpg\"\n",
    "    ),\n",
    "    dpi=300,\n",
    "    bbox_inches=\"tight\"\n",
    ")\n",
    "\n",
    "plt.show()"
   ]
  }
 ],
 "metadata": {
  "kernelspec": {
   "display_name": "idw-article-4sVHHV7K",
   "language": "python",
   "name": "python3"
  },
  "language_info": {
   "codemirror_mode": {
    "name": "ipython",
    "version": 3
   },
   "file_extension": ".py",
   "mimetype": "text/x-python",
   "name": "python",
   "nbconvert_exporter": "python",
   "pygments_lexer": "ipython3",
   "version": "3.9.19"
  },
  "orig_nbformat": 4
 },
 "nbformat": 4,
 "nbformat_minor": 2
}
